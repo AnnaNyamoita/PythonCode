{
  "nbformat": 4,
  "nbformat_minor": 0,
  "metadata": {
    "colab": {
      "provenance": []
    },
    "kernelspec": {
      "name": "python3",
      "display_name": "Python 3"
    },
    "language_info": {
      "name": "python"
    }
  },
  "cells": [
    {
      "cell_type": "code",
      "execution_count": 4,
      "metadata": {
        "id": "lLwmCnMIsMcc"
      },
      "outputs": [],
      "source": [
        "#creating a function that calculates if a set of numbers is a magic square or not the magic square\n",
        "def magic_square_test(my_matrix):\n",
        "    iSize = len(my_matrix[0])\n",
        "    sum_list = []\n",
        "    \n",
        "    #Horizontal Part:\n",
        "    sum_list.extend([sum (lines) for lines in my_matrix])   \n",
        "\n",
        "    #Vertical Part:\n",
        "    for col in range(iSize):\n",
        "        sum_list.append(sum(row[col] for row in my_matrix))\n",
        "    \n",
        "    #Diagonals Part\n",
        "    result1 = 0\n",
        "    for i in range(0,iSize):\n",
        "        result1 +=my_matrix[i][i]\n",
        "    sum_list.append(result1)  \n",
        "    \n",
        "    result2 = 0\n",
        "    for i in range(iSize-1,-1,-1):\n",
        "        result2 +=my_matrix[i][i]\n",
        "    sum_list.append(result2)\n",
        "\n",
        "    if len(set(sum_list))>1:\n",
        "        return False\n",
        "    return True\n",
        "\n"
      ]
    },
    {
      "cell_type": "code",
      "source": [
        "m=[[7, 12, 1, 14], [2, 13, 8, 11], [16, 3, 10, 5], [9, 6, 15, 4]] \n",
        "print(magic_square_test(m));\n",
        "\n",
        "m=[[2, 7, 6], [9, 5, 1], [4, 3, 8]]\n",
        "print(magic_square_test(m));\n",
        "\n",
        "m=[[2, 7, 6], [9, 5, 1], [4, 3, 7]]\n",
        "print(magic_square_test(m));"
      ],
      "metadata": {
        "colab": {
          "base_uri": "https://localhost:8080/"
        },
        "id": "rdsvgzDRsWuv",
        "outputId": "802ee35c-6ddd-4f86-d96f-322bdb872fa1"
      },
      "execution_count": 5,
      "outputs": [
        {
          "output_type": "stream",
          "name": "stdout",
          "text": [
            "True\n",
            "True\n",
            "False\n"
          ]
        }
      ]
    }
  ]
}